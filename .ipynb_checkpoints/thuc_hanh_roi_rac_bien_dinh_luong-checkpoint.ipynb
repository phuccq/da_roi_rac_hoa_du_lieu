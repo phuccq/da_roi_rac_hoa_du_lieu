{
 "cells": [
  {
   "cell_type": "code",
   "execution_count": 6,
   "id": "76ec33d4",
   "metadata": {},
   "outputs": [
    {
     "data": {
      "text/plain": [
       "[(18, 25], (18, 25], (18, 25], (25, 35], (18, 25], ..., (25, 35], (60, 100], (35, 60], (35, 60], (25, 35]]\n",
       "Length: 12\n",
       "Categories (4, interval[int64]): [(18, 25] < (25, 35] < (35, 60] < (60, 100]]"
      ]
     },
     "execution_count": 6,
     "metadata": {},
     "output_type": "execute_result"
    }
   ],
   "source": [
    "import pandas as pd\n",
    "import numpy as np\n",
    "\n",
    "ages = [20, 22, 25, 27, 21, 23, 37, 31, 61, 45, 41, 32]\n",
    "# định nghĩa khoảng giá trị các nhóm\n",
    "bins = [18, 25, 35, 60, 100]\n",
    "# thực hiện rời rạc hóa\n",
    "cats = pd.cut(ages, bins)\n",
    "cats"
   ]
  },
  {
   "cell_type": "code",
   "execution_count": 7,
   "id": "65d55b3b",
   "metadata": {},
   "outputs": [
    {
     "data": {
      "text/plain": [
       "array([0, 0, 0, 1, 0, 0, 2, 1, 3, 2, 2, 1], dtype=int8)"
      ]
     },
     "execution_count": 7,
     "metadata": {},
     "output_type": "execute_result"
    }
   ],
   "source": [
    "# lấy ra index của nhóm tương ứng với các phần tử\n",
    "cats.codes"
   ]
  },
  {
   "cell_type": "code",
   "execution_count": 8,
   "id": "ebb5df88",
   "metadata": {},
   "outputs": [
    {
     "data": {
      "text/plain": [
       "IntervalIndex([(18, 25], (25, 35], (35, 60], (60, 100]],\n",
       "              closed='right',\n",
       "              dtype='interval[int64]')"
      ]
     },
     "execution_count": 8,
     "metadata": {},
     "output_type": "execute_result"
    }
   ],
   "source": [
    "# lấy ra các nhóm\n",
    "cats.categories"
   ]
  },
  {
   "cell_type": "code",
   "execution_count": 9,
   "id": "b4819faf",
   "metadata": {},
   "outputs": [
    {
     "data": {
      "text/plain": [
       "(18, 25]     5\n",
       "(25, 35]     3\n",
       "(35, 60]     3\n",
       "(60, 100]    1\n",
       "dtype: int64"
      ]
     },
     "execution_count": 9,
     "metadata": {},
     "output_type": "execute_result"
    }
   ],
   "source": [
    "# thống kê số lượng phần tử ở mỗi nhóm\n",
    "pd.value_counts(cats)"
   ]
  },
  {
   "cell_type": "code",
   "execution_count": 10,
   "id": "480a327d",
   "metadata": {},
   "outputs": [
    {
     "data": {
      "text/plain": [
       "[[18, 26), [18, 26), [18, 26), [26, 36), [18, 26), ..., [26, 36), [61, 100), [36, 61), [36, 61), [26, 36)]\n",
       "Length: 12\n",
       "Categories (4, interval[int64]): [[18, 26) < [26, 36) < [36, 61) < [61, 100)]"
      ]
     },
     "execution_count": 10,
     "metadata": {},
     "output_type": "execute_result"
    }
   ],
   "source": [
    "# thay đổi phía bị đóng bằng cách truyền vào tham số right = False:\n",
    "pd.cut(ages, [18, 26, 36, 61, 100], right=False)"
   ]
  },
  {
   "cell_type": "code",
   "execution_count": 11,
   "id": "e0638d88",
   "metadata": {},
   "outputs": [
    {
     "data": {
      "text/plain": [
       "['Youth', 'Youth', 'Youth', 'YoungAdult', 'Youth', ..., 'YoungAdult', 'Senior', 'MiddleAged', 'MiddleAged', 'YoungAdult']\n",
       "Length: 12\n",
       "Categories (4, object): ['Youth' < 'YoungAdult' < 'MiddleAged' < 'Senior']"
      ]
     },
     "execution_count": 11,
     "metadata": {},
     "output_type": "execute_result"
    }
   ],
   "source": [
    "#  chuyển các tên nhóm của riêng mình bằng cách truyền vào một danh sách các nhãn\n",
    "group_names = ['Youth', 'YoungAdult', 'MiddleAged', 'Senior']# danh sách nhãn\n",
    "pd.cut(ages, bins, labels=group_names)"
   ]
  },
  {
   "cell_type": "markdown",
   "id": "c4bae24d",
   "metadata": {},
   "source": [
    "# Tách dữ liệu thành các phần và mỗi phần là các khoảng bằng nhau"
   ]
  },
  {
   "cell_type": "code",
   "execution_count": 13,
   "id": "3f88c299",
   "metadata": {},
   "outputs": [
    {
     "data": {
      "text/plain": [
       "[(0.48, 0.72], (0.72, 0.95], (0.25, 0.48], (0.25, 0.48], (0.25, 0.48], ..., (0.013, 0.25], (0.48, 0.72], (0.48, 0.72], (0.48, 0.72], (0.013, 0.25]]\n",
       "Length: 20\n",
       "Categories (4, interval[float64]): [(0.013, 0.25] < (0.25, 0.48] < (0.48, 0.72] < (0.72, 0.95]]"
      ]
     },
     "execution_count": 13,
     "metadata": {},
     "output_type": "execute_result"
    }
   ],
   "source": [
    "# sinh dữ liệu ngẫu nhiên gồm 20 phần tử\n",
    "data = np.random.rand(20)\n",
    "cut_data = pd.cut(data, 4, precision=2) # Tùy chọn precision = 2 sẽ giới hạn độ chính xác thập phân ở hai chữ số.\n",
    "cut_data"
   ]
  },
  {
   "cell_type": "code",
   "execution_count": 14,
   "id": "fa7d76b5",
   "metadata": {},
   "outputs": [
    {
     "data": {
      "text/plain": [
       "(0.25, 0.48]     6\n",
       "(0.013, 0.25]    5\n",
       "(0.72, 0.95]     5\n",
       "(0.48, 0.72]     4\n",
       "dtype: int64"
      ]
     },
     "execution_count": 14,
     "metadata": {},
     "output_type": "execute_result"
    }
   ],
   "source": [
    "pd.value_counts(cut_data)"
   ]
  },
  {
   "cell_type": "markdown",
   "id": "bacd42ce",
   "metadata": {},
   "source": [
    "# Tách dữ liệu thành các phần và mỗi phần có số phần tử bằng nhau "
   ]
  },
  {
   "cell_type": "code",
   "execution_count": 15,
   "id": "8986f337",
   "metadata": {},
   "outputs": [],
   "source": [
    "# sinh ngẫu nhiễn 1000 điểm dữ liệu\n",
    "data = np.random.randn(1000)"
   ]
  },
  {
   "cell_type": "code",
   "execution_count": 17,
   "id": "a630052a",
   "metadata": {},
   "outputs": [
    {
     "data": {
      "text/plain": [
       "[(-0.645, 0.0805], (0.0805, 0.774], (0.0805, 0.774], (-0.645, 0.0805], (-0.645, 0.0805], ..., (0.0805, 0.774], (-0.645, 0.0805], (-0.645, 0.0805], (-0.645, 0.0805], (-2.818, -0.645]]\n",
       "Length: 1000\n",
       "Categories (4, interval[float64]): [(-2.818, -0.645] < (-0.645, 0.0805] < (0.0805, 0.774] < (0.774, 3.556]]"
      ]
     },
     "execution_count": 17,
     "metadata": {},
     "output_type": "execute_result"
    }
   ],
   "source": [
    "# thực hiện hàm qcut trên dữ liệu vừa sinh ra\n",
    "cats = pd.qcut(data, 4)\n",
    "cats"
   ]
  },
  {
   "cell_type": "code",
   "execution_count": 18,
   "id": "d0f0be8e",
   "metadata": {},
   "outputs": [
    {
     "data": {
      "text/plain": [
       "(-2.818, -0.645]    250\n",
       "(-0.645, 0.0805]    250\n",
       "(0.0805, 0.774]     250\n",
       "(0.774, 3.556]      250\n",
       "dtype: int64"
      ]
     },
     "execution_count": 18,
     "metadata": {},
     "output_type": "execute_result"
    }
   ],
   "source": [
    "#thống kê số lượng phần tử\n",
    "pd.value_counts(cats)"
   ]
  },
  {
   "cell_type": "code",
   "execution_count": 22,
   "id": "4c39a39a",
   "metadata": {},
   "outputs": [
    {
     "data": {
      "text/plain": [
       "[(-1.28, 0.0805], (0.0805, 1.271], (0.0805, 1.271], (-1.28, 0.0805], (-1.28, 0.0805], ..., (0.0805, 1.271], (-1.28, 0.0805], (-1.28, 0.0805], (-1.28, 0.0805], (-2.818, -1.28]]\n",
       "Length: 1000\n",
       "Categories (4, interval[float64]): [(-2.818, -1.28] < (-1.28, 0.0805] < (0.0805, 1.271] < (1.271, 3.556]]"
      ]
     },
     "execution_count": 22,
     "metadata": {},
     "output_type": "execute_result"
    }
   ],
   "source": [
    "# chuyển các lượng tử của riêng mình (các số từ 0 đến 1):\n",
    "pd.qcut(data, [0, 0.1, 0.5, 0.9, 1])"
   ]
  }
 ],
 "metadata": {
  "kernelspec": {
   "display_name": "Python 3",
   "language": "python",
   "name": "python3"
  },
  "language_info": {
   "codemirror_mode": {
    "name": "ipython",
    "version": 3
   },
   "file_extension": ".py",
   "mimetype": "text/x-python",
   "name": "python",
   "nbconvert_exporter": "python",
   "pygments_lexer": "ipython3",
   "version": "3.8.8"
  }
 },
 "nbformat": 4,
 "nbformat_minor": 5
}
